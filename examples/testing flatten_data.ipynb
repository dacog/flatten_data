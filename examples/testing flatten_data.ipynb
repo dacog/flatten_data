{
 "cells": [
  {
   "cell_type": "markdown",
   "metadata": {},
   "source": [
    "# This is an example of use"
   ]
  },
  {
   "cell_type": "markdown",
   "metadata": {},
   "source": [
    "Install using pip"
   ]
  },
  {
   "cell_type": "code",
   "execution_count": 15,
   "metadata": {},
   "outputs": [
    {
     "name": "stdout",
     "output_type": "stream",
     "text": [
      "Collecting git+https://github.com/dacog/flatten_data\n",
      "  Cloning https://github.com/dacog/flatten_data to /tmp/pip-req-build-0vdo2fvd\n",
      "Building wheels for collected packages: flatten-data\n",
      "  Building wheel for flatten-data (setup.py) ... \u001b[?25ldone\n",
      "\u001b[?25h  Stored in directory: /tmp/pip-ephem-wheel-cache-a540dgq2/wheels/67/bb/d3/398154a8f9349e5558c6c487e81f6cbc65d839d4209ba4290d\n",
      "Successfully built flatten-data\n",
      "Installing collected packages: flatten-data\n",
      "  Found existing installation: flatten-data 0.0.0\n",
      "    Uninstalling flatten-data-0.0.0:\n",
      "      Successfully uninstalled flatten-data-0.0.0\n",
      "Successfully installed flatten-data-0.1\n"
     ]
    }
   ],
   "source": [
    "!pip install git+https://github.com/dacog/flatten_data"
   ]
  },
  {
   "cell_type": "markdown",
   "metadata": {},
   "source": [
    "## Import as follows"
   ]
  },
  {
   "cell_type": "code",
   "execution_count": 30,
   "metadata": {},
   "outputs": [],
   "source": [
    "from flatten_data import flatten_data as fd"
   ]
  },
  {
   "cell_type": "markdown",
   "metadata": {},
   "source": [
    "Check info on module"
   ]
  },
  {
   "cell_type": "code",
   "execution_count": 35,
   "metadata": {},
   "outputs": [
    {
     "name": "stdout",
     "output_type": "stream",
     "text": [
      "Help on module flatten_data.flatten_data in flatten_data:\n",
      "\n",
      "NAME\n",
      "    flatten_data.flatten_data\n",
      "\n",
      "DESCRIPTION\n",
      "    #function flatten_data is taken from https://github.com/thomascmann/flatten-data\n",
      "    #MIT License\n",
      "    #Copyright (c) 2017 Thomas C. Mann\n",
      "    #I just packaged this as I found it to be really useful when dealing with nested dictionaries and lists\n",
      "\n",
      "FUNCTIONS\n",
      "    flatten_data(data, simple=1)\n",
      "\n",
      "FILE\n",
      "    /usr/local/lib/python3.6/dist-packages/flatten_data/flatten_data.py\n",
      "\n",
      "\n"
     ]
    }
   ],
   "source": [
    "help(fd)"
   ]
  },
  {
   "cell_type": "markdown",
   "metadata": {},
   "source": [
    "Create a sample dataset _datax_"
   ]
  },
  {
   "cell_type": "code",
   "execution_count": 36,
   "metadata": {},
   "outputs": [],
   "source": [
    "datax={'data': [{'name': 'Alemania',\n",
    "   'location': {'latitude': 51, 'longitude': 10},\n",
    "   'category_list': [{'id': '2400', 'name': 'Country'}],\n",
    "   'id': '279516318736353'},\n",
    "  {'name': 'Berlín',\n",
    "   'location': {'city': 'Berlin',\n",
    "    'country': 'Germany',\n",
    "    'latitude': '52.518391',\n",
    "    'longitude': '13.401251'},\n",
    "   'category_list': [{'id': '115725465228008', 'name': 'Region'},\n",
    "    {'id': '2404', 'name': 'City'},\n",
    "    {'id': '2401', 'name': 'City'}],\n",
    "   'id': '213549102002249'}]}"
   ]
  },
  {
   "cell_type": "markdown",
   "metadata": {},
   "source": [
    "## Call the function with argument simple=0"
   ]
  },
  {
   "cell_type": "code",
   "execution_count": 37,
   "metadata": {},
   "outputs": [
    {
     "data": {
      "text/plain": [
       "[{'name': 'Alemania',\n",
       "  'location_latitude': 51,\n",
       "  'location_longitude': 10,\n",
       "  'category_list_id': '2400',\n",
       "  'category_list_name': 'Country',\n",
       "  'id': '279516318736353',\n",
       "  '_ID_VAR_': 'data'},\n",
       " {'name': 'Berlín',\n",
       "  'location_city': 'Berlin',\n",
       "  'location_country': 'Germany',\n",
       "  'location_latitude': '52.518391',\n",
       "  'location_longitude': '13.401251',\n",
       "  'category_list_id': '115725465228008',\n",
       "  'category_list_name': 'Region',\n",
       "  'id': '213549102002249',\n",
       "  '_ID_VAR_': 'data'},\n",
       " {'name': 'Berlín',\n",
       "  'location_city': 'Berlin',\n",
       "  'location_country': 'Germany',\n",
       "  'location_latitude': '52.518391',\n",
       "  'location_longitude': '13.401251',\n",
       "  'category_list_id': '2404',\n",
       "  'category_list_name': 'City',\n",
       "  'id': '213549102002249',\n",
       "  '_ID_VAR_': 'data'},\n",
       " {'name': 'Berlín',\n",
       "  'location_city': 'Berlin',\n",
       "  'location_country': 'Germany',\n",
       "  'location_latitude': '52.518391',\n",
       "  'location_longitude': '13.401251',\n",
       "  'category_list_id': '2401',\n",
       "  'category_list_name': 'City',\n",
       "  'id': '213549102002249',\n",
       "  '_ID_VAR_': 'data'}]"
      ]
     },
     "execution_count": 37,
     "metadata": {},
     "output_type": "execute_result"
    }
   ],
   "source": [
    "fd.flatten_data(datax, simple=0)"
   ]
  },
  {
   "cell_type": "markdown",
   "metadata": {},
   "source": [
    "## Call the function with argument simple=1"
   ]
  },
  {
   "cell_type": "code",
   "execution_count": 40,
   "metadata": {},
   "outputs": [
    {
     "data": {
      "text/plain": [
       "[{'data_name': 'Alemania',\n",
       "  'data_location_latitude': 51,\n",
       "  'data_location_longitude': 10,\n",
       "  'data_category_list_id': '2400',\n",
       "  'data_category_list_name': 'Country',\n",
       "  'data_id': '279516318736353'},\n",
       " {'data_name': 'Berlín',\n",
       "  'data_location_city': 'Berlin',\n",
       "  'data_location_country': 'Germany',\n",
       "  'data_location_latitude': '52.518391',\n",
       "  'data_location_longitude': '13.401251',\n",
       "  'data_category_list_id': '115725465228008',\n",
       "  'data_category_list_name': 'Region',\n",
       "  'data_id': '213549102002249'},\n",
       " {'data_name': 'Berlín',\n",
       "  'data_location_city': 'Berlin',\n",
       "  'data_location_country': 'Germany',\n",
       "  'data_location_latitude': '52.518391',\n",
       "  'data_location_longitude': '13.401251',\n",
       "  'data_category_list_id': '2404',\n",
       "  'data_category_list_name': 'City',\n",
       "  'data_id': '213549102002249'},\n",
       " {'data_name': 'Berlín',\n",
       "  'data_location_city': 'Berlin',\n",
       "  'data_location_country': 'Germany',\n",
       "  'data_location_latitude': '52.518391',\n",
       "  'data_location_longitude': '13.401251',\n",
       "  'data_category_list_id': '2401',\n",
       "  'data_category_list_name': 'City',\n",
       "  'data_id': '213549102002249'}]"
      ]
     },
     "execution_count": 40,
     "metadata": {},
     "output_type": "execute_result"
    }
   ],
   "source": [
    "fd.flatten_data(datax, simple=1)"
   ]
  },
  {
   "cell_type": "code",
   "execution_count": null,
   "metadata": {},
   "outputs": [],
   "source": []
  }
 ],
 "metadata": {
  "kernelspec": {
   "display_name": "Python 3",
   "language": "python",
   "name": "python3"
  },
  "language_info": {
   "codemirror_mode": {
    "name": "ipython",
    "version": 3
   },
   "file_extension": ".py",
   "mimetype": "text/x-python",
   "name": "python",
   "nbconvert_exporter": "python",
   "pygments_lexer": "ipython3",
   "version": "3.6.3"
  }
 },
 "nbformat": 4,
 "nbformat_minor": 2
}
